{
  "nbformat": 4,
  "nbformat_minor": 0,
  "metadata": {
    "colab": {
      "name": "competition.ipynb",
      "provenance": [],
      "collapsed_sections": [],
      "authorship_tag": "ABX9TyOIdph/g0+/IA+vGDjEg6uV",
      "include_colab_link": true
    },
    "kernelspec": {
      "name": "python3",
      "display_name": "Python 3"
    },
    "language_info": {
      "name": "python"
    }
  },
  "cells": [
    {
      "cell_type": "markdown",
      "metadata": {
        "id": "view-in-github",
        "colab_type": "text"
      },
      "source": [
        "<a href=\"https://colab.research.google.com/github/loposkin/competition/blob/main/competition.ipynb\" target=\"_parent\"><img src=\"https://colab.research.google.com/assets/colab-badge.svg\" alt=\"Open In Colab\"/></a>"
      ]
    },
    {
      "cell_type": "code",
      "execution_count": 1,
      "metadata": {
        "id": "0iZINKTHRipE"
      },
      "outputs": [],
      "source": [
        "import pandas as pd\n",
        "import matplotlib.pyplot as plt\n"
      ]
    },
    {
      "cell_type": "markdown",
      "source": [
        "# Data Preparation"
      ],
      "metadata": {
        "id": "V0I5q0e3go09"
      }
    },
    {
      "cell_type": "markdown",
      "source": [
        "First, we read the data from csv"
      ],
      "metadata": {
        "id": "VBFv1TligjFG"
      }
    },
    {
      "cell_type": "code",
      "source": [
        "df = pd.read_csv('races.csv', sep=';', index_col='id')"
      ],
      "metadata": {
        "id": "MGPWxdDjRmxT"
      },
      "execution_count": 2,
      "outputs": []
    },
    {
      "cell_type": "code",
      "source": [
        "df.head()"
      ],
      "metadata": {
        "colab": {
          "base_uri": "https://localhost:8080/",
          "height": 388
        },
        "id": "QK3SNgCdTBV2",
        "outputId": "e5497ae3-b0f5-4114-9512-c9f3fe5af679"
      },
      "execution_count": 3,
      "outputs": [
        {
          "output_type": "execute_result",
          "data": {
            "text/html": [
              "\n",
              "  <div id=\"df-67b86fb7-f143-42f4-87e3-0cc2fe85b843\">\n",
              "    <div class=\"colab-df-container\">\n",
              "      <div>\n",
              "<style scoped>\n",
              "    .dataframe tbody tr th:only-of-type {\n",
              "        vertical-align: middle;\n",
              "    }\n",
              "\n",
              "    .dataframe tbody tr th {\n",
              "        vertical-align: top;\n",
              "    }\n",
              "\n",
              "    .dataframe thead th {\n",
              "        text-align: right;\n",
              "    }\n",
              "</style>\n",
              "<table border=\"1\" class=\"dataframe\">\n",
              "  <thead>\n",
              "    <tr style=\"text-align: right;\">\n",
              "      <th></th>\n",
              "      <th>race_created</th>\n",
              "      <th>race_driven</th>\n",
              "      <th>track_id</th>\n",
              "      <th>challenger</th>\n",
              "      <th>opponent</th>\n",
              "      <th>money</th>\n",
              "      <th>fuel_consumption</th>\n",
              "      <th>winner</th>\n",
              "      <th>status</th>\n",
              "      <th>forecast</th>\n",
              "      <th>weather</th>\n",
              "    </tr>\n",
              "    <tr>\n",
              "      <th>id</th>\n",
              "      <th></th>\n",
              "      <th></th>\n",
              "      <th></th>\n",
              "      <th></th>\n",
              "      <th></th>\n",
              "      <th></th>\n",
              "      <th></th>\n",
              "      <th></th>\n",
              "      <th></th>\n",
              "      <th></th>\n",
              "      <th></th>\n",
              "    </tr>\n",
              "  </thead>\n",
              "  <tbody>\n",
              "    <tr>\n",
              "      <th>1</th>\n",
              "      <td>06.03.2012</td>\n",
              "      <td>06.03.2012 00:00</td>\n",
              "      <td>12</td>\n",
              "      <td>5</td>\n",
              "      <td>2</td>\n",
              "      <td>30</td>\n",
              "      <td>0.63</td>\n",
              "      <td>5</td>\n",
              "      <td>finished</td>\n",
              "      <td>a:4:{s:5:\"sunny\";i:10;s:5:\"rainy\";i:70;s:8:\"th...</td>\n",
              "      <td>rainy</td>\n",
              "    </tr>\n",
              "    <tr>\n",
              "      <th>2</th>\n",
              "      <td>06.03.2012</td>\n",
              "      <td>06.03.2012 00:03</td>\n",
              "      <td>12</td>\n",
              "      <td>5</td>\n",
              "      <td>4</td>\n",
              "      <td>30</td>\n",
              "      <td>0.63</td>\n",
              "      <td>4</td>\n",
              "      <td>finished</td>\n",
              "      <td>a:4:{s:5:\"sunny\";i:70;s:5:\"rainy\";i:15;s:8:\"th...</td>\n",
              "      <td>sunny</td>\n",
              "    </tr>\n",
              "    <tr>\n",
              "      <th>3</th>\n",
              "      <td>06.03.2012</td>\n",
              "      <td>0000-00-00 00:00:00</td>\n",
              "      <td>3</td>\n",
              "      <td>10</td>\n",
              "      <td>5</td>\n",
              "      <td>30</td>\n",
              "      <td>0.63</td>\n",
              "      <td>0</td>\n",
              "      <td>declined</td>\n",
              "      <td>a:4:{s:5:\"sunny\";i:70;s:5:\"rainy\";i:10;s:8:\"th...</td>\n",
              "      <td>NaN</td>\n",
              "    </tr>\n",
              "    <tr>\n",
              "      <th>4</th>\n",
              "      <td>06.03.2012</td>\n",
              "      <td>06.03.2012 00:06</td>\n",
              "      <td>12</td>\n",
              "      <td>5</td>\n",
              "      <td>4</td>\n",
              "      <td>30</td>\n",
              "      <td>0.63</td>\n",
              "      <td>5</td>\n",
              "      <td>finished</td>\n",
              "      <td>a:4:{s:5:\"sunny\";i:25;s:5:\"rainy\";i:75;s:8:\"th...</td>\n",
              "      <td>sunny</td>\n",
              "    </tr>\n",
              "    <tr>\n",
              "      <th>5</th>\n",
              "      <td>06.03.2012</td>\n",
              "      <td>0000-00-00 00:00:00</td>\n",
              "      <td>12</td>\n",
              "      <td>4</td>\n",
              "      <td>5</td>\n",
              "      <td>30</td>\n",
              "      <td>0.63</td>\n",
              "      <td>0</td>\n",
              "      <td>declined</td>\n",
              "      <td>a:4:{s:5:\"sunny\";i:45;s:5:\"rainy\";i:20;s:8:\"th...</td>\n",
              "      <td>NaN</td>\n",
              "    </tr>\n",
              "  </tbody>\n",
              "</table>\n",
              "</div>\n",
              "      <button class=\"colab-df-convert\" onclick=\"convertToInteractive('df-67b86fb7-f143-42f4-87e3-0cc2fe85b843')\"\n",
              "              title=\"Convert this dataframe to an interactive table.\"\n",
              "              style=\"display:none;\">\n",
              "        \n",
              "  <svg xmlns=\"http://www.w3.org/2000/svg\" height=\"24px\"viewBox=\"0 0 24 24\"\n",
              "       width=\"24px\">\n",
              "    <path d=\"M0 0h24v24H0V0z\" fill=\"none\"/>\n",
              "    <path d=\"M18.56 5.44l.94 2.06.94-2.06 2.06-.94-2.06-.94-.94-2.06-.94 2.06-2.06.94zm-11 1L8.5 8.5l.94-2.06 2.06-.94-2.06-.94L8.5 2.5l-.94 2.06-2.06.94zm10 10l.94 2.06.94-2.06 2.06-.94-2.06-.94-.94-2.06-.94 2.06-2.06.94z\"/><path d=\"M17.41 7.96l-1.37-1.37c-.4-.4-.92-.59-1.43-.59-.52 0-1.04.2-1.43.59L10.3 9.45l-7.72 7.72c-.78.78-.78 2.05 0 2.83L4 21.41c.39.39.9.59 1.41.59.51 0 1.02-.2 1.41-.59l7.78-7.78 2.81-2.81c.8-.78.8-2.07 0-2.86zM5.41 20L4 18.59l7.72-7.72 1.47 1.35L5.41 20z\"/>\n",
              "  </svg>\n",
              "      </button>\n",
              "      \n",
              "  <style>\n",
              "    .colab-df-container {\n",
              "      display:flex;\n",
              "      flex-wrap:wrap;\n",
              "      gap: 12px;\n",
              "    }\n",
              "\n",
              "    .colab-df-convert {\n",
              "      background-color: #E8F0FE;\n",
              "      border: none;\n",
              "      border-radius: 50%;\n",
              "      cursor: pointer;\n",
              "      display: none;\n",
              "      fill: #1967D2;\n",
              "      height: 32px;\n",
              "      padding: 0 0 0 0;\n",
              "      width: 32px;\n",
              "    }\n",
              "\n",
              "    .colab-df-convert:hover {\n",
              "      background-color: #E2EBFA;\n",
              "      box-shadow: 0px 1px 2px rgba(60, 64, 67, 0.3), 0px 1px 3px 1px rgba(60, 64, 67, 0.15);\n",
              "      fill: #174EA6;\n",
              "    }\n",
              "\n",
              "    [theme=dark] .colab-df-convert {\n",
              "      background-color: #3B4455;\n",
              "      fill: #D2E3FC;\n",
              "    }\n",
              "\n",
              "    [theme=dark] .colab-df-convert:hover {\n",
              "      background-color: #434B5C;\n",
              "      box-shadow: 0px 1px 3px 1px rgba(0, 0, 0, 0.15);\n",
              "      filter: drop-shadow(0px 1px 2px rgba(0, 0, 0, 0.3));\n",
              "      fill: #FFFFFF;\n",
              "    }\n",
              "  </style>\n",
              "\n",
              "      <script>\n",
              "        const buttonEl =\n",
              "          document.querySelector('#df-67b86fb7-f143-42f4-87e3-0cc2fe85b843 button.colab-df-convert');\n",
              "        buttonEl.style.display =\n",
              "          google.colab.kernel.accessAllowed ? 'block' : 'none';\n",
              "\n",
              "        async function convertToInteractive(key) {\n",
              "          const element = document.querySelector('#df-67b86fb7-f143-42f4-87e3-0cc2fe85b843');\n",
              "          const dataTable =\n",
              "            await google.colab.kernel.invokeFunction('convertToInteractive',\n",
              "                                                     [key], {});\n",
              "          if (!dataTable) return;\n",
              "\n",
              "          const docLinkHtml = 'Like what you see? Visit the ' +\n",
              "            '<a target=\"_blank\" href=https://colab.research.google.com/notebooks/data_table.ipynb>data table notebook</a>'\n",
              "            + ' to learn more about interactive tables.';\n",
              "          element.innerHTML = '';\n",
              "          dataTable['output_type'] = 'display_data';\n",
              "          await google.colab.output.renderOutput(dataTable, element);\n",
              "          const docLink = document.createElement('div');\n",
              "          docLink.innerHTML = docLinkHtml;\n",
              "          element.appendChild(docLink);\n",
              "        }\n",
              "      </script>\n",
              "    </div>\n",
              "  </div>\n",
              "  "
            ],
            "text/plain": [
              "   race_created  ... weather\n",
              "id               ...        \n",
              "1    06.03.2012  ...   rainy\n",
              "2    06.03.2012  ...   sunny\n",
              "3    06.03.2012  ...     NaN\n",
              "4    06.03.2012  ...   sunny\n",
              "5    06.03.2012  ...     NaN\n",
              "\n",
              "[5 rows x 11 columns]"
            ]
          },
          "metadata": {},
          "execution_count": 3
        }
      ]
    },
    {
      "cell_type": "markdown",
      "source": [
        "We will parse the `forecast` column into 4 different columns"
      ],
      "metadata": {
        "id": "93K68tK1gsYF"
      }
    },
    {
      "cell_type": "code",
      "source": [
        "forecast_types = ['sunny', 'rainy', 'thundery', 'snowy']\n",
        "stripped = df['forecast'].str.lstrip('a:4:').str.strip(\"{}\")\n",
        "\n",
        "splitted = stripped.str.split(';')\n",
        "\n",
        "\n",
        "for count, forecast_type in enumerate(forecast_types):\n",
        "    df[forecast_type] = splitted.str[2 * count + 1].str.partition(':')[2].astype(int)\n",
        "\n",
        "\n"
      ],
      "metadata": {
        "id": "0VhXiFTRUi3z"
      },
      "execution_count": 4,
      "outputs": []
    },
    {
      "cell_type": "code",
      "source": [
        "['id', 'race_created', 'race_driven', 'track_id', \n",
        " 'challenger', 'opponent', 'money', 'fuel_consumption', \n",
        " 'winner', 'status', 'sunny', 'rainy',\n",
        " 'thundery', 'snowy', 'weather']\n",
        "df = df.drop('forecast', axis=1)"
      ],
      "metadata": {
        "id": "6sLp4qXkaNev"
      },
      "execution_count": 5,
      "outputs": []
    },
    {
      "cell_type": "code",
      "source": [
        "df.info()"
      ],
      "metadata": {
        "colab": {
          "base_uri": "https://localhost:8080/"
        },
        "id": "Tq8KULqEgZaP",
        "outputId": "d5198fc0-4659-4896-cde6-1cde40285207"
      },
      "execution_count": 6,
      "outputs": [
        {
          "output_type": "stream",
          "name": "stdout",
          "text": [
            "<class 'pandas.core.frame.DataFrame'>\n",
            "Int64Index: 166609 entries, 1 to 166609\n",
            "Data columns (total 14 columns):\n",
            " #   Column            Non-Null Count   Dtype \n",
            "---  ------            --------------   ----- \n",
            " 0   race_created      166609 non-null  object\n",
            " 1   race_driven       166609 non-null  object\n",
            " 2   track_id          166609 non-null  int64 \n",
            " 3   challenger        166609 non-null  int64 \n",
            " 4   opponent          166609 non-null  int64 \n",
            " 5   money             166609 non-null  int64 \n",
            " 6   fuel_consumption  166609 non-null  object\n",
            " 7   winner            166609 non-null  int64 \n",
            " 8   status            166609 non-null  object\n",
            " 9   weather           109099 non-null  object\n",
            " 10  sunny             166609 non-null  int64 \n",
            " 11  rainy             166609 non-null  int64 \n",
            " 12  thundery          166609 non-null  int64 \n",
            " 13  snowy             166609 non-null  int64 \n",
            "dtypes: int64(9), object(5)\n",
            "memory usage: 19.1+ MB\n"
          ]
        }
      ]
    },
    {
      "cell_type": "markdown",
      "source": [
        "As we can see the column fuel consumption has an `object` dtype. Let's look at the values closer"
      ],
      "metadata": {
        "id": "TKuSIRpxpRdn"
      }
    },
    {
      "cell_type": "code",
      "source": [
        "df.sample(5, random_state=42)"
      ],
      "metadata": {
        "colab": {
          "base_uri": "https://localhost:8080/",
          "height": 388
        },
        "id": "i6dSWSjheo9z",
        "outputId": "6287bb5f-b50f-4178-c184-38424fea6734"
      },
      "execution_count": 7,
      "outputs": [
        {
          "output_type": "execute_result",
          "data": {
            "text/html": [
              "\n",
              "  <div id=\"df-8abb56ac-0773-4425-8f3b-5d715e53d59b\">\n",
              "    <div class=\"colab-df-container\">\n",
              "      <div>\n",
              "<style scoped>\n",
              "    .dataframe tbody tr th:only-of-type {\n",
              "        vertical-align: middle;\n",
              "    }\n",
              "\n",
              "    .dataframe tbody tr th {\n",
              "        vertical-align: top;\n",
              "    }\n",
              "\n",
              "    .dataframe thead th {\n",
              "        text-align: right;\n",
              "    }\n",
              "</style>\n",
              "<table border=\"1\" class=\"dataframe\">\n",
              "  <thead>\n",
              "    <tr style=\"text-align: right;\">\n",
              "      <th></th>\n",
              "      <th>race_created</th>\n",
              "      <th>race_driven</th>\n",
              "      <th>track_id</th>\n",
              "      <th>challenger</th>\n",
              "      <th>opponent</th>\n",
              "      <th>money</th>\n",
              "      <th>fuel_consumption</th>\n",
              "      <th>winner</th>\n",
              "      <th>status</th>\n",
              "      <th>weather</th>\n",
              "      <th>sunny</th>\n",
              "      <th>rainy</th>\n",
              "      <th>thundery</th>\n",
              "      <th>snowy</th>\n",
              "    </tr>\n",
              "    <tr>\n",
              "      <th>id</th>\n",
              "      <th></th>\n",
              "      <th></th>\n",
              "      <th></th>\n",
              "      <th></th>\n",
              "      <th></th>\n",
              "      <th></th>\n",
              "      <th></th>\n",
              "      <th></th>\n",
              "      <th></th>\n",
              "      <th></th>\n",
              "      <th></th>\n",
              "      <th></th>\n",
              "      <th></th>\n",
              "      <th></th>\n",
              "    </tr>\n",
              "  </thead>\n",
              "  <tbody>\n",
              "    <tr>\n",
              "      <th>41017</th>\n",
              "      <td>06.07.2012</td>\n",
              "      <td>0000-00-00 00:00:00</td>\n",
              "      <td>12</td>\n",
              "      <td>46</td>\n",
              "      <td>0</td>\n",
              "      <td>100</td>\n",
              "      <td>02. Jul</td>\n",
              "      <td>0</td>\n",
              "      <td>retired</td>\n",
              "      <td>NaN</td>\n",
              "      <td>40</td>\n",
              "      <td>50</td>\n",
              "      <td>5</td>\n",
              "      <td>5</td>\n",
              "    </tr>\n",
              "    <tr>\n",
              "      <th>98837</th>\n",
              "      <td>26.12.2012</td>\n",
              "      <td>28.12.2012 14:07</td>\n",
              "      <td>5</td>\n",
              "      <td>4506</td>\n",
              "      <td>81</td>\n",
              "      <td>30</td>\n",
              "      <td>2.529</td>\n",
              "      <td>4506</td>\n",
              "      <td>finished</td>\n",
              "      <td>sunny</td>\n",
              "      <td>80</td>\n",
              "      <td>0</td>\n",
              "      <td>20</td>\n",
              "      <td>0</td>\n",
              "    </tr>\n",
              "    <tr>\n",
              "      <th>107300</th>\n",
              "      <td>28.01.2013</td>\n",
              "      <td>0000-00-00 00:00:00</td>\n",
              "      <td>12</td>\n",
              "      <td>7844</td>\n",
              "      <td>7937</td>\n",
              "      <td>30</td>\n",
              "      <td>02. Jan</td>\n",
              "      <td>0</td>\n",
              "      <td>retired</td>\n",
              "      <td>NaN</td>\n",
              "      <td>100</td>\n",
              "      <td>0</td>\n",
              "      <td>0</td>\n",
              "      <td>0</td>\n",
              "    </tr>\n",
              "    <tr>\n",
              "      <th>26343</th>\n",
              "      <td>19.05.2012</td>\n",
              "      <td>0000-00-00 00:00:00</td>\n",
              "      <td>5</td>\n",
              "      <td>2237</td>\n",
              "      <td>0</td>\n",
              "      <td>50</td>\n",
              "      <td>2.664</td>\n",
              "      <td>0</td>\n",
              "      <td>retired</td>\n",
              "      <td>NaN</td>\n",
              "      <td>40</td>\n",
              "      <td>10</td>\n",
              "      <td>25</td>\n",
              "      <td>25</td>\n",
              "    </tr>\n",
              "    <tr>\n",
              "      <th>86021</th>\n",
              "      <td>30.11.2012</td>\n",
              "      <td>30.11.2012 12:26</td>\n",
              "      <td>12</td>\n",
              "      <td>130</td>\n",
              "      <td>4506</td>\n",
              "      <td>30</td>\n",
              "      <td>3.075</td>\n",
              "      <td>4506</td>\n",
              "      <td>finished</td>\n",
              "      <td>sunny</td>\n",
              "      <td>70</td>\n",
              "      <td>25</td>\n",
              "      <td>0</td>\n",
              "      <td>5</td>\n",
              "    </tr>\n",
              "  </tbody>\n",
              "</table>\n",
              "</div>\n",
              "      <button class=\"colab-df-convert\" onclick=\"convertToInteractive('df-8abb56ac-0773-4425-8f3b-5d715e53d59b')\"\n",
              "              title=\"Convert this dataframe to an interactive table.\"\n",
              "              style=\"display:none;\">\n",
              "        \n",
              "  <svg xmlns=\"http://www.w3.org/2000/svg\" height=\"24px\"viewBox=\"0 0 24 24\"\n",
              "       width=\"24px\">\n",
              "    <path d=\"M0 0h24v24H0V0z\" fill=\"none\"/>\n",
              "    <path d=\"M18.56 5.44l.94 2.06.94-2.06 2.06-.94-2.06-.94-.94-2.06-.94 2.06-2.06.94zm-11 1L8.5 8.5l.94-2.06 2.06-.94-2.06-.94L8.5 2.5l-.94 2.06-2.06.94zm10 10l.94 2.06.94-2.06 2.06-.94-2.06-.94-.94-2.06-.94 2.06-2.06.94z\"/><path d=\"M17.41 7.96l-1.37-1.37c-.4-.4-.92-.59-1.43-.59-.52 0-1.04.2-1.43.59L10.3 9.45l-7.72 7.72c-.78.78-.78 2.05 0 2.83L4 21.41c.39.39.9.59 1.41.59.51 0 1.02-.2 1.41-.59l7.78-7.78 2.81-2.81c.8-.78.8-2.07 0-2.86zM5.41 20L4 18.59l7.72-7.72 1.47 1.35L5.41 20z\"/>\n",
              "  </svg>\n",
              "      </button>\n",
              "      \n",
              "  <style>\n",
              "    .colab-df-container {\n",
              "      display:flex;\n",
              "      flex-wrap:wrap;\n",
              "      gap: 12px;\n",
              "    }\n",
              "\n",
              "    .colab-df-convert {\n",
              "      background-color: #E8F0FE;\n",
              "      border: none;\n",
              "      border-radius: 50%;\n",
              "      cursor: pointer;\n",
              "      display: none;\n",
              "      fill: #1967D2;\n",
              "      height: 32px;\n",
              "      padding: 0 0 0 0;\n",
              "      width: 32px;\n",
              "    }\n",
              "\n",
              "    .colab-df-convert:hover {\n",
              "      background-color: #E2EBFA;\n",
              "      box-shadow: 0px 1px 2px rgba(60, 64, 67, 0.3), 0px 1px 3px 1px rgba(60, 64, 67, 0.15);\n",
              "      fill: #174EA6;\n",
              "    }\n",
              "\n",
              "    [theme=dark] .colab-df-convert {\n",
              "      background-color: #3B4455;\n",
              "      fill: #D2E3FC;\n",
              "    }\n",
              "\n",
              "    [theme=dark] .colab-df-convert:hover {\n",
              "      background-color: #434B5C;\n",
              "      box-shadow: 0px 1px 3px 1px rgba(0, 0, 0, 0.15);\n",
              "      filter: drop-shadow(0px 1px 2px rgba(0, 0, 0, 0.3));\n",
              "      fill: #FFFFFF;\n",
              "    }\n",
              "  </style>\n",
              "\n",
              "      <script>\n",
              "        const buttonEl =\n",
              "          document.querySelector('#df-8abb56ac-0773-4425-8f3b-5d715e53d59b button.colab-df-convert');\n",
              "        buttonEl.style.display =\n",
              "          google.colab.kernel.accessAllowed ? 'block' : 'none';\n",
              "\n",
              "        async function convertToInteractive(key) {\n",
              "          const element = document.querySelector('#df-8abb56ac-0773-4425-8f3b-5d715e53d59b');\n",
              "          const dataTable =\n",
              "            await google.colab.kernel.invokeFunction('convertToInteractive',\n",
              "                                                     [key], {});\n",
              "          if (!dataTable) return;\n",
              "\n",
              "          const docLinkHtml = 'Like what you see? Visit the ' +\n",
              "            '<a target=\"_blank\" href=https://colab.research.google.com/notebooks/data_table.ipynb>data table notebook</a>'\n",
              "            + ' to learn more about interactive tables.';\n",
              "          element.innerHTML = '';\n",
              "          dataTable['output_type'] = 'display_data';\n",
              "          await google.colab.output.renderOutput(dataTable, element);\n",
              "          const docLink = document.createElement('div');\n",
              "          docLink.innerHTML = docLinkHtml;\n",
              "          element.appendChild(docLink);\n",
              "        }\n",
              "      </script>\n",
              "    </div>\n",
              "  </div>\n",
              "  "
            ],
            "text/plain": [
              "       race_created          race_driven  track_id  ...  rainy  thundery  snowy\n",
              "id                                                  ...                        \n",
              "41017    06.07.2012  0000-00-00 00:00:00        12  ...     50         5      5\n",
              "98837    26.12.2012     28.12.2012 14:07         5  ...      0        20      0\n",
              "107300   28.01.2013  0000-00-00 00:00:00        12  ...      0         0      0\n",
              "26343    19.05.2012  0000-00-00 00:00:00         5  ...     10        25     25\n",
              "86021    30.11.2012     30.11.2012 12:26        12  ...     25         0      5\n",
              "\n",
              "[5 rows x 14 columns]"
            ]
          },
          "metadata": {},
          "execution_count": 7
        }
      ]
    },
    {
      "cell_type": "markdown",
      "source": [
        "Looks like the csv was imported in Excel and got the wrong datatype assigned. Let's check it."
      ],
      "metadata": {
        "id": "TxT8hKnHpcMQ"
      }
    },
    {
      "cell_type": "code",
      "source": [
        "month_abbr = ['Jan', 'Feb', 'Mrz', 'Apr', 'Mai', 'Jun', 'Jul', 'Aug', 'Sep', 'Okt', 'Nov', 'Dez']\n",
        "month_number = ['01', '02', '03', '04', '05', '06', '07', '08', '09', '10', '11', '12']\n",
        "\n",
        "fuel_consumption = df['fuel_consumption']\n",
        "\n",
        "fuel_consumption[~fuel_consumption.str.replace('\\.', '').str.isnumeric()]"
      ],
      "metadata": {
        "colab": {
          "base_uri": "https://localhost:8080/"
        },
        "id": "x4HilOOlgfSG",
        "outputId": "182d8541-da83-4af1-bf99-dd0ee5441dcb"
      },
      "execution_count": 8,
      "outputs": [
        {
          "output_type": "execute_result",
          "data": {
            "text/plain": [
              "id\n",
              "292       Jan 17\n",
              "295       Jan 17\n",
              "296       Jan 17\n",
              "297       Jan 17\n",
              "305       Jan 17\n",
              "           ...  \n",
              "166578    Jun 63\n",
              "166580    Jan 52\n",
              "166592    Jun 84\n",
              "166593    Jun 84\n",
              "166594    Jun 18\n",
              "Name: fuel_consumption, Length: 58753, dtype: object"
            ]
          },
          "metadata": {},
          "execution_count": 8
        }
      ]
    },
    {
      "cell_type": "markdown",
      "source": [
        "We replace the months names with corresponding numbers"
      ],
      "metadata": {
        "id": "W_sA6Ufmrusc"
      }
    },
    {
      "cell_type": "code",
      "source": [
        "for counter, month in enumerate(month_abbr):\n",
        "  fuel_consumption = fuel_consumption.str.replace(month, month_number[counter])\n",
        "\n",
        "fuel_consumption = fuel_consumption.str.replace(' ', '')"
      ],
      "metadata": {
        "id": "_oXiPIs7tZii"
      },
      "execution_count": 9,
      "outputs": []
    },
    {
      "cell_type": "code",
      "source": [
        "fuel_consumption[~fuel_consumption.str.replace('\\.', '').str.isnumeric()]"
      ],
      "metadata": {
        "colab": {
          "base_uri": "https://localhost:8080/"
        },
        "id": "1YwYg1p2p6HM",
        "outputId": "c9de7f89-49ee-4a45-ed79-98a18b5bdb2e"
      },
      "execution_count": 10,
      "outputs": [
        {
          "output_type": "execute_result",
          "data": {
            "text/plain": [
              "Series([], Name: fuel_consumption, dtype: object)"
            ]
          },
          "metadata": {},
          "execution_count": 10
        }
      ]
    },
    {
      "cell_type": "markdown",
      "source": [
        "Now all values are numeric"
      ],
      "metadata": {
        "id": "KBTQ7IHqunZt"
      }
    },
    {
      "cell_type": "code",
      "source": [
        "df['fuel_consumption'] = pd.to_numeric(fuel_consumption)"
      ],
      "metadata": {
        "id": "zn6NGJphujZc"
      },
      "execution_count": 11,
      "outputs": []
    },
    {
      "cell_type": "code",
      "source": [
        "df['fuel_consumption'].dtype"
      ],
      "metadata": {
        "colab": {
          "base_uri": "https://localhost:8080/"
        },
        "id": "s-nU_ZEU2ifS",
        "outputId": "042bbbed-bef1-451f-891e-73eec5bf3a29"
      },
      "execution_count": 12,
      "outputs": [
        {
          "output_type": "execute_result",
          "data": {
            "text/plain": [
              "dtype('float64')"
            ]
          },
          "metadata": {},
          "execution_count": 12
        }
      ]
    },
    {
      "cell_type": "markdown",
      "source": [
        "Now, let's look at dates"
      ],
      "metadata": {
        "id": "bQLGQDjgxmnn"
      }
    },
    {
      "cell_type": "code",
      "source": [
        "df['race_created'] = pd.to_datetime(df['race_created'])"
      ],
      "metadata": {
        "id": "ykM0DA3Avtb-"
      },
      "execution_count": 13,
      "outputs": []
    },
    {
      "cell_type": "markdown",
      "source": [
        "The dates for cancelled races(`0000-00-00`) cannot be parsed. We insert NaT instead of these values."
      ],
      "metadata": {
        "id": "NSjK8Up62R18"
      }
    },
    {
      "cell_type": "code",
      "source": [
        "pd.to_datetime(df['race_driven'], errors='coerce')"
      ],
      "metadata": {
        "colab": {
          "base_uri": "https://localhost:8080/"
        },
        "id": "GUBNz1JXyXfV",
        "outputId": "a96a788d-4426-4abe-c2c9-974c3b9a3867"
      },
      "execution_count": 14,
      "outputs": [
        {
          "output_type": "execute_result",
          "data": {
            "text/plain": [
              "id\n",
              "1        2012-06-03 00:00:00\n",
              "2        2012-06-03 00:03:00\n",
              "3                        NaT\n",
              "4        2012-06-03 00:06:00\n",
              "5                        NaT\n",
              "                 ...        \n",
              "166605   2017-06-14 01:55:00\n",
              "166606   2017-06-26 20:54:00\n",
              "166607                   NaT\n",
              "166608   2017-06-24 21:22:00\n",
              "166609                   NaT\n",
              "Name: race_driven, Length: 166609, dtype: datetime64[ns]"
            ]
          },
          "metadata": {},
          "execution_count": 14
        }
      ]
    },
    {
      "cell_type": "markdown",
      "source": [
        "# Data Exploration"
      ],
      "metadata": {
        "id": "1dKeLqPL3ETX"
      }
    },
    {
      "cell_type": "markdown",
      "source": [
        "Let's look at the histograms of our features."
      ],
      "metadata": {
        "id": "HcmB1qCY7T2K"
      }
    },
    {
      "cell_type": "code",
      "source": [
        "df.hist(figsize=(15, 15))\n",
        "None"
      ],
      "metadata": {
        "colab": {
          "base_uri": "https://localhost:8080/",
          "height": 879
        },
        "id": "9TUK542kyseG",
        "outputId": "e27411be-7ce6-4b00-dafe-8db70e4616ac"
      },
      "execution_count": 15,
      "outputs": [
        {
          "output_type": "display_data",
          "data": {
            "image/png": "[encoded data removed]",
            "text/plain": [
              "<Figure size 1080x1080 with 12 Axes>"
            ]
          },
          "metadata": {
            "needs_background": "light"
          }
        }
      ]
    },
    {
      "cell_type": "markdown",
      "source": [
        "From this histograms, we cannot really say something interesting. \n",
        "\n",
        "-\n",
        "- the track 12 is popular :)\n",
        "\n",
        "Let's now look at the `status` column"
      ],
      "metadata": {
        "id": "5hHAM0q24tUW"
      }
    },
    {
      "cell_type": "code",
      "source": [
        "df['status'].value_counts()"
      ],
      "metadata": {
        "colab": {
          "base_uri": "https://localhost:8080/"
        },
        "id": "kI-YBf_x4cZg",
        "outputId": "9994acbc-a20d-4910-a166-cbec14474222"
      },
      "execution_count": 16,
      "outputs": [
        {
          "output_type": "execute_result",
          "data": {
            "text/plain": [
              "finished    109099\n",
              "retired      43224\n",
              "declined     11392\n",
              "waiting       2894\n",
              "Name: status, dtype: int64"
            ]
          },
          "metadata": {},
          "execution_count": 16
        }
      ]
    },
    {
      "cell_type": "code",
      "source": [
        "finished = df[df['status'] == 'finished']"
      ],
      "metadata": {
        "id": "GmLUntsFHnlP"
      },
      "execution_count": 17,
      "outputs": []
    },
    {
      "cell_type": "markdown",
      "source": [
        "We'll create a new feature which indicates whether the `challenger` won the race. We drop the `winner` column"
      ],
      "metadata": {
        "id": "fOqJPQRl5eOs"
      }
    },
    {
      "cell_type": "code",
      "source": [
        "finished['challengerWon'] = False\n",
        "finished.loc[finished['challenger'] == finished['winner'], 'challengerWon'] = True\n",
        "# finished = finished.drop('winner', axis=1)"
      ],
      "metadata": {
        "colab": {
          "base_uri": "https://localhost:8080/"
        },
        "id": "gCemF6Q55A8W",
        "outputId": "1d0a42e1-f7a4-4bd3-9f68-214a7d7b73f6"
      },
      "execution_count": 18,
      "outputs": [
        {
          "output_type": "stream",
          "name": "stderr",
          "text": [
            "/usr/local/lib/python3.7/dist-packages/ipykernel_launcher.py:1: SettingWithCopyWarning: \n",
            "A value is trying to be set on a copy of a slice from a DataFrame.\n",
            "Try using .loc[row_indexer,col_indexer] = value instead\n",
            "\n",
            "See the caveats in the documentation: https://pandas.pydata.org/pandas-docs/stable/user_guide/indexing.html#returning-a-view-versus-a-copy\n",
            "  \"\"\"Entry point for launching an IPython kernel.\n",
            "/usr/local/lib/python3.7/dist-packages/pandas/core/indexing.py:1763: SettingWithCopyWarning: \n",
            "A value is trying to be set on a copy of a slice from a DataFrame.\n",
            "Try using .loc[row_indexer,col_indexer] = value instead\n",
            "\n",
            "See the caveats in the documentation: https://pandas.pydata.org/pandas-docs/stable/user_guide/indexing.html#returning-a-view-versus-a-copy\n",
            "  isetter(loc, value)\n"
          ]
        }
      ]
    },
    {
      "cell_type": "markdown",
      "source": [
        "**Question 1:** How often the challenger wins?"
      ],
      "metadata": {
        "id": "oa7o0n2fLGY6"
      }
    },
    {
      "cell_type": "code",
      "source": [
        "finished['challengerWon'].sum() / finished.shape[0]"
      ],
      "metadata": {
        "colab": {
          "base_uri": "https://localhost:8080/"
        },
        "id": "UTvJs5_w3OOh",
        "outputId": "4409c905-60a2-47fd-d2c6-21e30a3a236a"
      },
      "execution_count": 19,
      "outputs": [
        {
          "output_type": "execute_result",
          "data": {
            "text/plain": [
              "0.5607659098616853"
            ]
          },
          "metadata": {},
          "execution_count": 19
        }
      ]
    },
    {
      "cell_type": "markdown",
      "source": [
        "Looks like the challengers win the games a bit more often."
      ],
      "metadata": {
        "id": "Tv4KYk9f8y_p"
      }
    },
    {
      "cell_type": "markdown",
      "source": [
        "**Question 2:** How often the weather forecast is true?"
      ],
      "metadata": {
        "id": "BMVvxTGeLO-t"
      }
    },
    {
      "cell_type": "code",
      "source": [
        "predictions = finished[['sunny', 'rainy', 'thundery', 'snowy']].idxmax(axis=1)\n",
        "(predictions == finished['weather']).sum() / finished.shape[0]\n"
      ],
      "metadata": {
        "colab": {
          "base_uri": "https://localhost:8080/"
        },
        "id": "Ye0UlLwf8wHL",
        "outputId": "611b2d94-85ab-4e31-f51b-5cd050c8df81"
      },
      "execution_count": 20,
      "outputs": [
        {
          "output_type": "execute_result",
          "data": {
            "text/plain": [
              "0.6535348628310067"
            ]
          },
          "metadata": {},
          "execution_count": 20
        }
      ]
    },
    {
      "cell_type": "markdown",
      "source": [
        "So, the weather is predicted with an accuracy of approx. 0.653. That's pretty good. "
      ],
      "metadata": {
        "id": "YKYUEzicE_e1"
      }
    },
    {
      "cell_type": "markdown",
      "source": [
        "**Question 3:** On which tracks the fuel consumption is the highest?"
      ],
      "metadata": {
        "id": "R_JOpfVTLkKV"
      }
    },
    {
      "cell_type": "code",
      "source": [
        "finished.groupby('track_id')['fuel_consumption'].mean()"
      ],
      "metadata": {
        "colab": {
          "base_uri": "https://localhost:8080/"
        },
        "id": "y0RGP8ASLgYd",
        "outputId": "fa7cebf3-504c-4958-c5e3-2874913b4518"
      },
      "execution_count": 21,
      "outputs": [
        {
          "output_type": "execute_result",
          "data": {
            "text/plain": [
              "track_id\n",
              "3      77.514691\n",
              "4     184.521373\n",
              "5      15.510455\n",
              "6      61.548289\n",
              "7     197.583233\n",
              "8     153.857413\n",
              "9     117.047032\n",
              "10    130.129777\n",
              "11     45.633941\n",
              "12    129.704447\n",
              "13     55.213707\n",
              "14     68.704480\n",
              "Name: fuel_consumption, dtype: float64"
            ]
          },
          "metadata": {},
          "execution_count": 21
        }
      ]
    },
    {
      "cell_type": "markdown",
      "source": [
        "As we can see the tracks 1 and 2 are not used, we'll discover it later."
      ],
      "metadata": {
        "id": "sIiiWE7OTLcX"
      }
    },
    {
      "cell_type": "code",
      "source": [
        "finished.groupby('track_id')['fuel_consumption'].mean().nlargest()"
      ],
      "metadata": {
        "colab": {
          "base_uri": "https://localhost:8080/"
        },
        "id": "YbfmCwoNTR9y",
        "outputId": "f00235dd-b56c-40bf-f429-ab202b3658d9"
      },
      "execution_count": 22,
      "outputs": [
        {
          "output_type": "execute_result",
          "data": {
            "text/plain": [
              "track_id\n",
              "7     197.583233\n",
              "4     184.521373\n",
              "8     153.857413\n",
              "10    130.129777\n",
              "12    129.704447\n",
              "Name: fuel_consumption, dtype: float64"
            ]
          },
          "metadata": {},
          "execution_count": 22
        }
      ]
    },
    {
      "cell_type": "markdown",
      "source": [
        "**Question 4:** On which tracks the challenger wins more often"
      ],
      "metadata": {
        "id": "iafKVrODRFFe"
      }
    },
    {
      "cell_type": "code",
      "source": [
        "finished.groupby('track_id')['challengerWon'].sum() / finished.groupby('track_id')['challengerWon'].count()"
      ],
      "metadata": {
        "colab": {
          "base_uri": "https://localhost:8080/"
        },
        "id": "asfk4nIh9GXP",
        "outputId": "bd9dbce4-8c22-4945-d6a8-efd14c0f5339"
      },
      "execution_count": 23,
      "outputs": [
        {
          "output_type": "execute_result",
          "data": {
            "text/plain": [
              "track_id\n",
              "3     0.488460\n",
              "4     0.541176\n",
              "5     0.657692\n",
              "6     0.488073\n",
              "7     0.546308\n",
              "8     0.674699\n",
              "9     0.718028\n",
              "10    0.567276\n",
              "11    0.563147\n",
              "12    0.572163\n",
              "13    0.535052\n",
              "14    0.543933\n",
              "Name: challengerWon, dtype: float64"
            ]
          },
          "metadata": {},
          "execution_count": 23
        }
      ]
    },
    {
      "cell_type": "markdown",
      "source": [
        "The highest win rate for the challenger is on the track 9. There are no tracks with `track_id` 1 and 2."
      ],
      "metadata": {
        "id": "P-BtMgdYTk5z"
      }
    },
    {
      "cell_type": "markdown",
      "source": [
        "Let's find how many races took place each year/month."
      ],
      "metadata": {
        "id": "MYWf-pJwoN1D"
      }
    },
    {
      "cell_type": "code",
      "source": [
        "finished['race_created'] = pd.to_datetime(finished['race_created'])\n",
        "finished['race_driven'] = pd.to_datetime(finished['race_driven'])\n",
        "\n"
      ],
      "metadata": {
        "id": "fz5EH9aQTkfr",
        "colab": {
          "base_uri": "https://localhost:8080/"
        },
        "outputId": "7c093134-cd98-4932-bcf5-5e91ccb483a8"
      },
      "execution_count": 24,
      "outputs": [
        {
          "output_type": "stream",
          "name": "stderr",
          "text": [
            "/usr/local/lib/python3.7/dist-packages/ipykernel_launcher.py:1: SettingWithCopyWarning: \n",
            "A value is trying to be set on a copy of a slice from a DataFrame.\n",
            "Try using .loc[row_indexer,col_indexer] = value instead\n",
            "\n",
            "See the caveats in the documentation: https://pandas.pydata.org/pandas-docs/stable/user_guide/indexing.html#returning-a-view-versus-a-copy\n",
            "  \"\"\"Entry point for launching an IPython kernel.\n",
            "/usr/local/lib/python3.7/dist-packages/ipykernel_launcher.py:2: SettingWithCopyWarning: \n",
            "A value is trying to be set on a copy of a slice from a DataFrame.\n",
            "Try using .loc[row_indexer,col_indexer] = value instead\n",
            "\n",
            "See the caveats in the documentation: https://pandas.pydata.org/pandas-docs/stable/user_guide/indexing.html#returning-a-view-versus-a-copy\n",
            "  \n"
          ]
        }
      ]
    },
    {
      "cell_type": "code",
      "source": [
        "years = finished[['race_created', 'race_driven']]\n",
        "years['race_driven'] = years['race_driven'].dt.year\n",
        "years['race_created'] = years['race_created'].dt.year\n",
        "\n",
        "months = finished[['race_created', 'race_driven']]\n",
        "months['race_driven'] = months['race_driven'].dt.month\n",
        "months['race_created'] = months['race_created'].dt.month"
      ],
      "metadata": {
        "colab": {
          "base_uri": "https://localhost:8080/"
        },
        "id": "DzxJRTycoh4g",
        "outputId": "6c3fdae6-8ed3-42b0-fb32-7abd6b0ed434"
      },
      "execution_count": 25,
      "outputs": [
        {
          "output_type": "stream",
          "name": "stderr",
          "text": [
            "/usr/local/lib/python3.7/dist-packages/ipykernel_launcher.py:2: SettingWithCopyWarning: \n",
            "A value is trying to be set on a copy of a slice from a DataFrame.\n",
            "Try using .loc[row_indexer,col_indexer] = value instead\n",
            "\n",
            "See the caveats in the documentation: https://pandas.pydata.org/pandas-docs/stable/user_guide/indexing.html#returning-a-view-versus-a-copy\n",
            "  \n",
            "/usr/local/lib/python3.7/dist-packages/ipykernel_launcher.py:3: SettingWithCopyWarning: \n",
            "A value is trying to be set on a copy of a slice from a DataFrame.\n",
            "Try using .loc[row_indexer,col_indexer] = value instead\n",
            "\n",
            "See the caveats in the documentation: https://pandas.pydata.org/pandas-docs/stable/user_guide/indexing.html#returning-a-view-versus-a-copy\n",
            "  This is separate from the ipykernel package so we can avoid doing imports until\n",
            "/usr/local/lib/python3.7/dist-packages/ipykernel_launcher.py:6: SettingWithCopyWarning: \n",
            "A value is trying to be set on a copy of a slice from a DataFrame.\n",
            "Try using .loc[row_indexer,col_indexer] = value instead\n",
            "\n",
            "See the caveats in the documentation: https://pandas.pydata.org/pandas-docs/stable/user_guide/indexing.html#returning-a-view-versus-a-copy\n",
            "  \n",
            "/usr/local/lib/python3.7/dist-packages/ipykernel_launcher.py:7: SettingWithCopyWarning: \n",
            "A value is trying to be set on a copy of a slice from a DataFrame.\n",
            "Try using .loc[row_indexer,col_indexer] = value instead\n",
            "\n",
            "See the caveats in the documentation: https://pandas.pydata.org/pandas-docs/stable/user_guide/indexing.html#returning-a-view-versus-a-copy\n",
            "  import sys\n"
          ]
        }
      ]
    },
    {
      "cell_type": "code",
      "source": [
        "\n",
        "years.hist(column=['race_driven'], bins=len(pd.unique(years['race_driven'])))\n",
        "\n",
        "months.hist(column=['race_driven'], bins=len(pd.unique(months['race_driven'])))"
      ],
      "metadata": {
        "colab": {
          "base_uri": "https://localhost:8080/",
          "height": 580
        },
        "id": "h6FZfXRidcT1",
        "outputId": "9b334717-67d3-4c0a-baf5-24d43a389467"
      },
      "execution_count": 26,
      "outputs": [
        {
          "output_type": "execute_result",
          "data": {
            "text/plain": [
              "array([[<matplotlib.axes._subplots.AxesSubplot object at 0x7fb3c99efb10>]],\n",
              "      dtype=object)"
            ]
          },
          "metadata": {},
          "execution_count": 26
        },
        {
          "output_type": "display_data",
          "data": {
            "image/png": "[encoded data removed]",
            "text/plain": [
              "<Figure size 432x288 with 1 Axes>"
            ]
          },
          "metadata": {
            "needs_background": "light"
          }
        },
        {
          "output_type": "display_data",
          "data": {
            "image/png": "[encoded data removed]",
            "text/plain": [
              "<Figure size 432x288 with 1 Axes>"
            ]
          },
          "metadata": {
            "needs_background": "light"
          }
        }
      ]
    },
    {
      "cell_type": "markdown",
      "source": [
        "# Model Selection"
      ],
      "metadata": {
        "id": "BsWCLNgmi_Mf"
      }
    },
    {
      "cell_type": "markdown",
      "source": [
        "We will try to predict the `challengerWon` variable, we drop some features (dates, status and also the weather, because we don't it in prior)"
      ],
      "metadata": {
        "id": "krcE_v8BjFP6"
      }
    },
    {
      "cell_type": "code",
      "source": [
        "corr = finished.corr()\n",
        "corr.style.background_gradient(cmap='coolwarm')"
      ],
      "metadata": {
        "colab": {
          "base_uri": "https://localhost:8080/",
          "height": 414
        },
        "id": "hhxKU9oppG6K",
        "outputId": "9a2fe803-8d2b-40a6-a182-444e7c6f277e"
      },
      "execution_count": 27,
      "outputs": [
        {
          "output_type": "execute_result",
          "data": {
            "text/html": [
              "<style  type=\"text/css\" >\n",
              "#T_866bc1ca_6beb_11ec_8127_0242ac1c0002row0_col0,#T_866bc1ca_6beb_11ec_8127_0242ac1c0002row1_col1,#T_866bc1ca_6beb_11ec_8127_0242ac1c0002row2_col2,#T_866bc1ca_6beb_11ec_8127_0242ac1c0002row3_col3,#T_866bc1ca_6beb_11ec_8127_0242ac1c0002row4_col4,#T_866bc1ca_6beb_11ec_8127_0242ac1c0002row5_col5,#T_866bc1ca_6beb_11ec_8127_0242ac1c0002row6_col6,#T_866bc1ca_6beb_11ec_8127_0242ac1c0002row7_col7,#T_866bc1ca_6beb_11ec_8127_0242ac1c0002row8_col8,#T_866bc1ca_6beb_11ec_8127_0242ac1c0002row9_col9,#T_866bc1ca_6beb_11ec_8127_0242ac1c0002row10_col10{\n",
              "            background-color:  #b40426;\n",
              "            color:  #f1f1f1;\n",
              "        }#T_866bc1ca_6beb_11ec_8127_0242ac1c0002row0_col1,#T_866bc1ca_6beb_11ec_8127_0242ac1c0002row0_col2,#T_866bc1ca_6beb_11ec_8127_0242ac1c0002row0_col5,#T_866bc1ca_6beb_11ec_8127_0242ac1c0002row1_col0,#T_866bc1ca_6beb_11ec_8127_0242ac1c0002row1_col10,#T_866bc1ca_6beb_11ec_8127_0242ac1c0002row2_col3,#T_866bc1ca_6beb_11ec_8127_0242ac1c0002row6_col7,#T_866bc1ca_6beb_11ec_8127_0242ac1c0002row6_col8,#T_866bc1ca_6beb_11ec_8127_0242ac1c0002row6_col9,#T_866bc1ca_6beb_11ec_8127_0242ac1c0002row7_col4,#T_866bc1ca_6beb_11ec_8127_0242ac1c0002row7_col6,#T_866bc1ca_6beb_11ec_8127_0242ac1c0002row8_col4,#T_866bc1ca_6beb_11ec_8127_0242ac1c0002row9_col4{\n",
              "            background-color:  #3b4cc0;\n",
              "            color:  #f1f1f1;\n",
              "        }#T_866bc1ca_6beb_11ec_8127_0242ac1c0002row0_col3,#T_866bc1ca_6beb_11ec_8127_0242ac1c0002row9_col10{\n",
              "            background-color:  #5875e1;\n",
              "            color:  #000000;\n",
              "        }#T_866bc1ca_6beb_11ec_8127_0242ac1c0002row0_col4,#T_866bc1ca_6beb_11ec_8127_0242ac1c0002row10_col5{\n",
              "            background-color:  #6788ee;\n",
              "            color:  #000000;\n",
              "        }#T_866bc1ca_6beb_11ec_8127_0242ac1c0002row0_col6,#T_866bc1ca_6beb_11ec_8127_0242ac1c0002row1_col7{\n",
              "            background-color:  #bfd3f6;\n",
              "            color:  #000000;\n",
              "        }#T_866bc1ca_6beb_11ec_8127_0242ac1c0002row0_col7,#T_866bc1ca_6beb_11ec_8127_0242ac1c0002row3_col7,#T_866bc1ca_6beb_11ec_8127_0242ac1c0002row5_col6{\n",
              "            background-color:  #bcd2f7;\n",
              "            color:  #000000;\n",
              "        }#T_866bc1ca_6beb_11ec_8127_0242ac1c0002row0_col8,#T_866bc1ca_6beb_11ec_8127_0242ac1c0002row4_col0,#T_866bc1ca_6beb_11ec_8127_0242ac1c0002row4_col8,#T_866bc1ca_6beb_11ec_8127_0242ac1c0002row4_col9,#T_866bc1ca_6beb_11ec_8127_0242ac1c0002row9_col7{\n",
              "            background-color:  #a3c2fe;\n",
              "            color:  #000000;\n",
              "        }#T_866bc1ca_6beb_11ec_8127_0242ac1c0002row0_col9,#T_866bc1ca_6beb_11ec_8127_0242ac1c0002row2_col8,#T_866bc1ca_6beb_11ec_8127_0242ac1c0002row2_col9,#T_866bc1ca_6beb_11ec_8127_0242ac1c0002row5_col8{\n",
              "            background-color:  #a5c3fe;\n",
              "            color:  #000000;\n",
              "        }#T_866bc1ca_6beb_11ec_8127_0242ac1c0002row0_col10,#T_866bc1ca_6beb_11ec_8127_0242ac1c0002row10_col4{\n",
              "            background-color:  #5d7ce6;\n",
              "            color:  #000000;\n",
              "        }#T_866bc1ca_6beb_11ec_8127_0242ac1c0002row1_col2{\n",
              "            background-color:  #f59c7d;\n",
              "            color:  #000000;\n",
              "        }#T_866bc1ca_6beb_11ec_8127_0242ac1c0002row1_col3{\n",
              "            background-color:  #4055c8;\n",
              "            color:  #f1f1f1;\n",
              "        }#T_866bc1ca_6beb_11ec_8127_0242ac1c0002row1_col4,#T_866bc1ca_6beb_11ec_8127_0242ac1c0002row2_col0{\n",
              "            background-color:  #4e68d8;\n",
              "            color:  #000000;\n",
              "        }#T_866bc1ca_6beb_11ec_8127_0242ac1c0002row1_col5{\n",
              "            background-color:  #d75445;\n",
              "            color:  #000000;\n",
              "        }#T_866bc1ca_6beb_11ec_8127_0242ac1c0002row1_col6,#T_866bc1ca_6beb_11ec_8127_0242ac1c0002row4_col7{\n",
              "            background-color:  #bbd1f8;\n",
              "            color:  #000000;\n",
              "        }#T_866bc1ca_6beb_11ec_8127_0242ac1c0002row1_col8,#T_866bc1ca_6beb_11ec_8127_0242ac1c0002row1_col9,#T_866bc1ca_6beb_11ec_8127_0242ac1c0002row3_col8,#T_866bc1ca_6beb_11ec_8127_0242ac1c0002row3_col9,#T_866bc1ca_6beb_11ec_8127_0242ac1c0002row5_col9{\n",
              "            background-color:  #a6c4fe;\n",
              "            color:  #000000;\n",
              "        }#T_866bc1ca_6beb_11ec_8127_0242ac1c0002row2_col1{\n",
              "            background-color:  #f39577;\n",
              "            color:  #000000;\n",
              "        }#T_866bc1ca_6beb_11ec_8127_0242ac1c0002row2_col4{\n",
              "            background-color:  #7093f3;\n",
              "            color:  #000000;\n",
              "        }#T_866bc1ca_6beb_11ec_8127_0242ac1c0002row2_col5{\n",
              "            background-color:  #e26952;\n",
              "            color:  #000000;\n",
              "        }#T_866bc1ca_6beb_11ec_8127_0242ac1c0002row2_col6,#T_866bc1ca_6beb_11ec_8127_0242ac1c0002row2_col7,#T_866bc1ca_6beb_11ec_8127_0242ac1c0002row3_col6,#T_866bc1ca_6beb_11ec_8127_0242ac1c0002row5_col7{\n",
              "            background-color:  #bed2f6;\n",
              "            color:  #000000;\n",
              "        }#T_866bc1ca_6beb_11ec_8127_0242ac1c0002row2_col10{\n",
              "            background-color:  #6f92f3;\n",
              "            color:  #000000;\n",
              "        }#T_866bc1ca_6beb_11ec_8127_0242ac1c0002row3_col0,#T_866bc1ca_6beb_11ec_8127_0242ac1c0002row10_col2{\n",
              "            background-color:  #8badfd;\n",
              "            color:  #000000;\n",
              "        }#T_866bc1ca_6beb_11ec_8127_0242ac1c0002row3_col1{\n",
              "            background-color:  #7699f6;\n",
              "            color:  #000000;\n",
              "        }#T_866bc1ca_6beb_11ec_8127_0242ac1c0002row3_col2{\n",
              "            background-color:  #5b7ae5;\n",
              "            color:  #000000;\n",
              "        }#T_866bc1ca_6beb_11ec_8127_0242ac1c0002row3_col4{\n",
              "            background-color:  #485fd1;\n",
              "            color:  #f1f1f1;\n",
              "        }#T_866bc1ca_6beb_11ec_8127_0242ac1c0002row3_col5,#T_866bc1ca_6beb_11ec_8127_0242ac1c0002row6_col2{\n",
              "            background-color:  #6c8ff1;\n",
              "            color:  #000000;\n",
              "        }#T_866bc1ca_6beb_11ec_8127_0242ac1c0002row3_col10{\n",
              "            background-color:  #465ecf;\n",
              "            color:  #f1f1f1;\n",
              "        }#T_866bc1ca_6beb_11ec_8127_0242ac1c0002row4_col1,#T_866bc1ca_6beb_11ec_8127_0242ac1c0002row4_col5{\n",
              "            background-color:  #8fb1fe;\n",
              "            color:  #000000;\n",
              "        }#T_866bc1ca_6beb_11ec_8127_0242ac1c0002row4_col2{\n",
              "            background-color:  #9bbcff;\n",
              "            color:  #000000;\n",
              "        }#T_866bc1ca_6beb_11ec_8127_0242ac1c0002row4_col3{\n",
              "            background-color:  #5572df;\n",
              "            color:  #000000;\n",
              "        }#T_866bc1ca_6beb_11ec_8127_0242ac1c0002row4_col6{\n",
              "            background-color:  #c1d4f4;\n",
              "            color:  #000000;\n",
              "        }#T_866bc1ca_6beb_11ec_8127_0242ac1c0002row4_col10{\n",
              "            background-color:  #6e90f2;\n",
              "            color:  #000000;\n",
              "        }#T_866bc1ca_6beb_11ec_8127_0242ac1c0002row5_col0{\n",
              "            background-color:  #4257c9;\n",
              "            color:  #f1f1f1;\n",
              "        }#T_866bc1ca_6beb_11ec_8127_0242ac1c0002row5_col1{\n",
              "            background-color:  #d65244;\n",
              "            color:  #000000;\n",
              "        }#T_866bc1ca_6beb_11ec_8127_0242ac1c0002row5_col2{\n",
              "            background-color:  #e36c55;\n",
              "            color:  #000000;\n",
              "        }#T_866bc1ca_6beb_11ec_8127_0242ac1c0002row5_col3{\n",
              "            background-color:  #3f53c6;\n",
              "            color:  #f1f1f1;\n",
              "        }#T_866bc1ca_6beb_11ec_8127_0242ac1c0002row5_col4,#T_866bc1ca_6beb_11ec_8127_0242ac1c0002row8_col10{\n",
              "            background-color:  #5673e0;\n",
              "            color:  #000000;\n",
              "        }#T_866bc1ca_6beb_11ec_8127_0242ac1c0002row5_col10{\n",
              "            background-color:  #3e51c5;\n",
              "            color:  #f1f1f1;\n",
              "        }#T_866bc1ca_6beb_11ec_8127_0242ac1c0002row6_col0{\n",
              "            background-color:  #82a6fb;\n",
              "            color:  #000000;\n",
              "        }#T_866bc1ca_6beb_11ec_8127_0242ac1c0002row6_col1,#T_866bc1ca_6beb_11ec_8127_0242ac1c0002row8_col0{\n",
              "            background-color:  #7da0f9;\n",
              "            color:  #000000;\n",
              "        }#T_866bc1ca_6beb_11ec_8127_0242ac1c0002row6_col3{\n",
              "            background-color:  #4c66d6;\n",
              "            color:  #000000;\n",
              "        }#T_866bc1ca_6beb_11ec_8127_0242ac1c0002row6_col4,#T_866bc1ca_6beb_11ec_8127_0242ac1c0002row10_col3{\n",
              "            background-color:  #4358cb;\n",
              "            color:  #f1f1f1;\n",
              "        }#T_866bc1ca_6beb_11ec_8127_0242ac1c0002row6_col5{\n",
              "            background-color:  #779af7;\n",
              "            color:  #000000;\n",
              "        }#T_866bc1ca_6beb_11ec_8127_0242ac1c0002row6_col10{\n",
              "            background-color:  #445acc;\n",
              "            color:  #f1f1f1;\n",
              "        }#T_866bc1ca_6beb_11ec_8127_0242ac1c0002row7_col0,#T_866bc1ca_6beb_11ec_8127_0242ac1c0002row9_col0{\n",
              "            background-color:  #7ea1fa;\n",
              "            color:  #000000;\n",
              "        }#T_866bc1ca_6beb_11ec_8127_0242ac1c0002row7_col1,#T_866bc1ca_6beb_11ec_8127_0242ac1c0002row9_col1{\n",
              "            background-color:  #81a4fb;\n",
              "            color:  #000000;\n",
              "        }#T_866bc1ca_6beb_11ec_8127_0242ac1c0002row7_col2,#T_866bc1ca_6beb_11ec_8127_0242ac1c0002row8_col2,#T_866bc1ca_6beb_11ec_8127_0242ac1c0002row9_col2,#T_866bc1ca_6beb_11ec_8127_0242ac1c0002row10_col1{\n",
              "            background-color:  #6b8df0;\n",
              "            color:  #000000;\n",
              "        }#T_866bc1ca_6beb_11ec_8127_0242ac1c0002row7_col3{\n",
              "            background-color:  #4a63d3;\n",
              "            color:  #f1f1f1;\n",
              "        }#T_866bc1ca_6beb_11ec_8127_0242ac1c0002row7_col5{\n",
              "            background-color:  #7a9df8;\n",
              "            color:  #000000;\n",
              "        }#T_866bc1ca_6beb_11ec_8127_0242ac1c0002row7_col8{\n",
              "            background-color:  #85a8fc;\n",
              "            color:  #000000;\n",
              "        }#T_866bc1ca_6beb_11ec_8127_0242ac1c0002row7_col9{\n",
              "            background-color:  #88abfd;\n",
              "            color:  #000000;\n",
              "        }#T_866bc1ca_6beb_11ec_8127_0242ac1c0002row7_col10{\n",
              "            background-color:  #536edd;\n",
              "            color:  #000000;\n",
              "        }#T_866bc1ca_6beb_11ec_8127_0242ac1c0002row8_col1{\n",
              "            background-color:  #80a3fa;\n",
              "            color:  #000000;\n",
              "        }#T_866bc1ca_6beb_11ec_8127_0242ac1c0002row8_col3,#T_866bc1ca_6beb_11ec_8127_0242ac1c0002row9_col3{\n",
              "            background-color:  #4b64d5;\n",
              "            color:  #f1f1f1;\n",
              "        }#T_866bc1ca_6beb_11ec_8127_0242ac1c0002row8_col5,#T_866bc1ca_6beb_11ec_8127_0242ac1c0002row9_col5{\n",
              "            background-color:  #799cf8;\n",
              "            color:  #000000;\n",
              "        }#T_866bc1ca_6beb_11ec_8127_0242ac1c0002row8_col6,#T_866bc1ca_6beb_11ec_8127_0242ac1c0002row9_col6{\n",
              "            background-color:  #5a78e4;\n",
              "            color:  #000000;\n",
              "        }#T_866bc1ca_6beb_11ec_8127_0242ac1c0002row8_col7{\n",
              "            background-color:  #a2c1ff;\n",
              "            color:  #000000;\n",
              "        }#T_866bc1ca_6beb_11ec_8127_0242ac1c0002row8_col9,#T_866bc1ca_6beb_11ec_8127_0242ac1c0002row9_col8{\n",
              "            background-color:  #bad0f8;\n",
              "            color:  #000000;\n",
              "        }#T_866bc1ca_6beb_11ec_8127_0242ac1c0002row10_col0{\n",
              "            background-color:  #8caffe;\n",
              "            color:  #000000;\n",
              "        }#T_866bc1ca_6beb_11ec_8127_0242ac1c0002row10_col6{\n",
              "            background-color:  #b6cefa;\n",
              "            color:  #000000;\n",
              "        }#T_866bc1ca_6beb_11ec_8127_0242ac1c0002row10_col7{\n",
              "            background-color:  #c0d4f5;\n",
              "            color:  #000000;\n",
              "        }#T_866bc1ca_6beb_11ec_8127_0242ac1c0002row10_col8,#T_866bc1ca_6beb_11ec_8127_0242ac1c0002row10_col9{\n",
              "            background-color:  #abc8fd;\n",
              "            color:  #000000;\n",
              "        }</style><table id=\"T_866bc1ca_6beb_11ec_8127_0242ac1c0002\" class=\"dataframe\"><thead>    <tr>        <th class=\"blank level0\" ></th>        <th class=\"col_heading level0 col0\" >track_id</th>        <th class=\"col_heading level0 col1\" >challenger</th>        <th class=\"col_heading level0 col2\" >opponent</th>        <th class=\"col_heading level0 col3\" >money</th>        <th class=\"col_heading level0 col4\" >fuel_consumption</th>        <th class=\"col_heading level0 col5\" >winner</th>        <th class=\"col_heading level0 col6\" >sunny</th>        <th class=\"col_heading level0 col7\" >rainy</th>        <th class=\"col_heading level0 col8\" >thundery</th>        <th class=\"col_heading level0 col9\" >snowy</th>        <th class=\"col_heading level0 col10\" >challengerWon</th>    </tr></thead><tbody>\n",
              "                <tr>\n",
              "                        <th id=\"T_866bc1ca_6beb_11ec_8127_0242ac1c0002level0_row0\" class=\"row_heading level0 row0\" >track_id</th>\n",
              "                        <td id=\"T_866bc1ca_6beb_11ec_8127_0242ac1c0002row0_col0\" class=\"data row0 col0\" >1.000000</td>\n",
              "                        <td id=\"T_866bc1ca_6beb_11ec_8127_0242ac1c0002row0_col1\" class=\"data row0 col1\" >-0.269381</td>\n",
              "                        <td id=\"T_866bc1ca_6beb_11ec_8127_0242ac1c0002row0_col2\" class=\"data row0 col2\" >-0.185617</td>\n",
              "                        <td id=\"T_866bc1ca_6beb_11ec_8127_0242ac1c0002row0_col3\" class=\"data row0 col3\" >0.041890</td>\n",
              "                        <td id=\"T_866bc1ca_6beb_11ec_8127_0242ac1c0002row0_col4\" class=\"data row0 col4\" >0.132051</td>\n",
              "                        <td id=\"T_866bc1ca_6beb_11ec_8127_0242ac1c0002row0_col5\" class=\"data row0 col5\" >-0.238935</td>\n",
              "                        <td id=\"T_866bc1ca_6beb_11ec_8127_0242ac1c0002row0_col6\" class=\"data row0 col6\" >0.008429</td>\n",
              "                        <td id=\"T_866bc1ca_6beb_11ec_8127_0242ac1c0002row0_col7\" class=\"data row0 col7\" >-0.002416</td>\n",
              "                        <td id=\"T_866bc1ca_6beb_11ec_8127_0242ac1c0002row0_col8\" class=\"data row0 col8\" >-0.007155</td>\n",
              "                        <td id=\"T_866bc1ca_6beb_11ec_8127_0242ac1c0002row0_col9\" class=\"data row0 col9\" >-0.005237</td>\n",
              "                        <td id=\"T_866bc1ca_6beb_11ec_8127_0242ac1c0002row0_col10\" class=\"data row0 col10\" >0.045637</td>\n",
              "            </tr>\n",
              "            <tr>\n",
              "                        <th id=\"T_866bc1ca_6beb_11ec_8127_0242ac1c0002level0_row1\" class=\"row_heading level0 row1\" >challenger</th>\n",
              "                        <td id=\"T_866bc1ca_6beb_11ec_8127_0242ac1c0002row1_col0\" class=\"data row1 col0\" >-0.269381</td>\n",
              "                        <td id=\"T_866bc1ca_6beb_11ec_8127_0242ac1c0002row1_col1\" class=\"data row1 col1\" >1.000000</td>\n",
              "                        <td id=\"T_866bc1ca_6beb_11ec_8127_0242ac1c0002row1_col2\" class=\"data row1 col2\" >0.697332</td>\n",
              "                        <td id=\"T_866bc1ca_6beb_11ec_8127_0242ac1c0002row1_col3\" class=\"data row1 col3\" >-0.035113</td>\n",
              "                        <td id=\"T_866bc1ca_6beb_11ec_8127_0242ac1c0002row1_col4\" class=\"data row1 col4\" >0.054538</td>\n",
              "                        <td id=\"T_866bc1ca_6beb_11ec_8127_0242ac1c0002row1_col5\" class=\"data row1 col5\" >0.871206</td>\n",
              "                        <td id=\"T_866bc1ca_6beb_11ec_8127_0242ac1c0002row1_col6\" class=\"data row1 col6\" >-0.008236</td>\n",
              "                        <td id=\"T_866bc1ca_6beb_11ec_8127_0242ac1c0002row1_col7\" class=\"data row1 col7\" >0.006032</td>\n",
              "                        <td id=\"T_866bc1ca_6beb_11ec_8127_0242ac1c0002row1_col8\" class=\"data row1 col8\" >0.002806</td>\n",
              "                        <td id=\"T_866bc1ca_6beb_11ec_8127_0242ac1c0002row1_col9\" class=\"data row1 col9\" >0.003888</td>\n",
              "                        <td id=\"T_866bc1ca_6beb_11ec_8127_0242ac1c0002row1_col10\" class=\"data row1 col10\" >-0.074088</td>\n",
              "            </tr>\n",
              "            <tr>\n",
              "                        <th id=\"T_866bc1ca_6beb_11ec_8127_0242ac1c0002level0_row2\" class=\"row_heading level0 row2\" >opponent</th>\n",
              "                        <td id=\"T_866bc1ca_6beb_11ec_8127_0242ac1c0002row2_col0\" class=\"data row2 col0\" >-0.185617</td>\n",
              "                        <td id=\"T_866bc1ca_6beb_11ec_8127_0242ac1c0002row2_col1\" class=\"data row2 col1\" >0.697332</td>\n",
              "                        <td id=\"T_866bc1ca_6beb_11ec_8127_0242ac1c0002row2_col2\" class=\"data row2 col2\" >1.000000</td>\n",
              "                        <td id=\"T_866bc1ca_6beb_11ec_8127_0242ac1c0002row2_col3\" class=\"data row2 col3\" >-0.059192</td>\n",
              "                        <td id=\"T_866bc1ca_6beb_11ec_8127_0242ac1c0002row2_col4\" class=\"data row2 col4\" >0.158513</td>\n",
              "                        <td id=\"T_866bc1ca_6beb_11ec_8127_0242ac1c0002row2_col5\" class=\"data row2 col5\" >0.823176</td>\n",
              "                        <td id=\"T_866bc1ca_6beb_11ec_8127_0242ac1c0002row2_col6\" class=\"data row2 col6\" >0.002060</td>\n",
              "                        <td id=\"T_866bc1ca_6beb_11ec_8127_0242ac1c0002row2_col7\" class=\"data row2 col7\" >-0.000381</td>\n",
              "                        <td id=\"T_866bc1ca_6beb_11ec_8127_0242ac1c0002row2_col8\" class=\"data row2 col8\" >-0.002099</td>\n",
              "                        <td id=\"T_866bc1ca_6beb_11ec_8127_0242ac1c0002row2_col9\" class=\"data row2 col9\" >-0.001237</td>\n",
              "                        <td id=\"T_866bc1ca_6beb_11ec_8127_0242ac1c0002row2_col10\" class=\"data row2 col10\" >0.104665</td>\n",
              "            </tr>\n",
              "            <tr>\n",
              "                        <th id=\"T_866bc1ca_6beb_11ec_8127_0242ac1c0002level0_row3\" class=\"row_heading level0 row3\" >money</th>\n",
              "                        <td id=\"T_866bc1ca_6beb_11ec_8127_0242ac1c0002row3_col0\" class=\"data row3 col0\" >0.041890</td>\n",
              "                        <td id=\"T_866bc1ca_6beb_11ec_8127_0242ac1c0002row3_col1\" class=\"data row3 col1\" >-0.035113</td>\n",
              "                        <td id=\"T_866bc1ca_6beb_11ec_8127_0242ac1c0002row3_col2\" class=\"data row3 col2\" >-0.059192</td>\n",
              "                        <td id=\"T_866bc1ca_6beb_11ec_8127_0242ac1c0002row3_col3\" class=\"data row3 col3\" >1.000000</td>\n",
              "                        <td id=\"T_866bc1ca_6beb_11ec_8127_0242ac1c0002row3_col4\" class=\"data row3 col4\" >0.032304</td>\n",
              "                        <td id=\"T_866bc1ca_6beb_11ec_8127_0242ac1c0002row3_col5\" class=\"data row3 col5\" >-0.041261</td>\n",
              "                        <td id=\"T_866bc1ca_6beb_11ec_8127_0242ac1c0002row3_col6\" class=\"data row3 col6\" >0.003597</td>\n",
              "                        <td id=\"T_866bc1ca_6beb_11ec_8127_0242ac1c0002row3_col7\" class=\"data row3 col7\" >-0.005007</td>\n",
              "                        <td id=\"T_866bc1ca_6beb_11ec_8127_0242ac1c0002row3_col8\" class=\"data row3 col8\" >0.000189</td>\n",
              "                        <td id=\"T_866bc1ca_6beb_11ec_8127_0242ac1c0002row3_col9\" class=\"data row3 col9\" >0.000398</td>\n",
              "                        <td id=\"T_866bc1ca_6beb_11ec_8127_0242ac1c0002row3_col10\" class=\"data row3 col10\" >-0.028760</td>\n",
              "            </tr>\n",
              "            <tr>\n",
              "                        <th id=\"T_866bc1ca_6beb_11ec_8127_0242ac1c0002level0_row4\" class=\"row_heading level0 row4\" >fuel_consumption</th>\n",
              "                        <td id=\"T_866bc1ca_6beb_11ec_8127_0242ac1c0002row4_col0\" class=\"data row4 col0\" >0.132051</td>\n",
              "                        <td id=\"T_866bc1ca_6beb_11ec_8127_0242ac1c0002row4_col1\" class=\"data row4 col1\" >0.054538</td>\n",
              "                        <td id=\"T_866bc1ca_6beb_11ec_8127_0242ac1c0002row4_col2\" class=\"data row4 col2\" >0.158513</td>\n",
              "                        <td id=\"T_866bc1ca_6beb_11ec_8127_0242ac1c0002row4_col3\" class=\"data row4 col3\" >0.032304</td>\n",
              "                        <td id=\"T_866bc1ca_6beb_11ec_8127_0242ac1c0002row4_col4\" class=\"data row4 col4\" >1.000000</td>\n",
              "                        <td id=\"T_866bc1ca_6beb_11ec_8127_0242ac1c0002row4_col5\" class=\"data row4 col5\" >0.080096</td>\n",
              "                        <td id=\"T_866bc1ca_6beb_11ec_8127_0242ac1c0002row4_col6\" class=\"data row4 col6\" >0.018258</td>\n",
              "                        <td id=\"T_866bc1ca_6beb_11ec_8127_0242ac1c0002row4_col7\" class=\"data row4 col7\" >-0.011719</td>\n",
              "                        <td id=\"T_866bc1ca_6beb_11ec_8127_0242ac1c0002row4_col8\" class=\"data row4 col8\" >-0.009144</td>\n",
              "                        <td id=\"T_866bc1ca_6beb_11ec_8127_0242ac1c0002row4_col9\" class=\"data row4 col9\" >-0.008126</td>\n",
              "                        <td id=\"T_866bc1ca_6beb_11ec_8127_0242ac1c0002row4_col10\" class=\"data row4 col10\" >0.100120</td>\n",
              "            </tr>\n",
              "            <tr>\n",
              "                        <th id=\"T_866bc1ca_6beb_11ec_8127_0242ac1c0002level0_row5\" class=\"row_heading level0 row5\" >winner</th>\n",
              "                        <td id=\"T_866bc1ca_6beb_11ec_8127_0242ac1c0002row5_col0\" class=\"data row5 col0\" >-0.238935</td>\n",
              "                        <td id=\"T_866bc1ca_6beb_11ec_8127_0242ac1c0002row5_col1\" class=\"data row5 col1\" >0.871206</td>\n",
              "                        <td id=\"T_866bc1ca_6beb_11ec_8127_0242ac1c0002row5_col2\" class=\"data row5 col2\" >0.823176</td>\n",
              "                        <td id=\"T_866bc1ca_6beb_11ec_8127_0242ac1c0002row5_col3\" class=\"data row5 col3\" >-0.041261</td>\n",
              "                        <td id=\"T_866bc1ca_6beb_11ec_8127_0242ac1c0002row5_col4\" class=\"data row5 col4\" >0.080096</td>\n",
              "                        <td id=\"T_866bc1ca_6beb_11ec_8127_0242ac1c0002row5_col5\" class=\"data row5 col5\" >1.000000</td>\n",
              "                        <td id=\"T_866bc1ca_6beb_11ec_8127_0242ac1c0002row5_col6\" class=\"data row5 col6\" >-0.002400</td>\n",
              "                        <td id=\"T_866bc1ca_6beb_11ec_8127_0242ac1c0002row5_col7\" class=\"data row5 col7\" >0.003055</td>\n",
              "                        <td id=\"T_866bc1ca_6beb_11ec_8127_0242ac1c0002row5_col8\" class=\"data row5 col8\" >-0.000901</td>\n",
              "                        <td id=\"T_866bc1ca_6beb_11ec_8127_0242ac1c0002row5_col9\" class=\"data row5 col9\" >0.000942</td>\n",
              "                        <td id=\"T_866bc1ca_6beb_11ec_8127_0242ac1c0002row5_col10\" class=\"data row5 col10\" >-0.060040</td>\n",
              "            </tr>\n",
              "            <tr>\n",
              "                        <th id=\"T_866bc1ca_6beb_11ec_8127_0242ac1c0002level0_row6\" class=\"row_heading level0 row6\" >sunny</th>\n",
              "                        <td id=\"T_866bc1ca_6beb_11ec_8127_0242ac1c0002row6_col0\" class=\"data row6 col0\" >0.008429</td>\n",
              "                        <td id=\"T_866bc1ca_6beb_11ec_8127_0242ac1c0002row6_col1\" class=\"data row6 col1\" >-0.008236</td>\n",
              "                        <td id=\"T_866bc1ca_6beb_11ec_8127_0242ac1c0002row6_col2\" class=\"data row6 col2\" >0.002060</td>\n",
              "                        <td id=\"T_866bc1ca_6beb_11ec_8127_0242ac1c0002row6_col3\" class=\"data row6 col3\" >0.003597</td>\n",
              "                        <td id=\"T_866bc1ca_6beb_11ec_8127_0242ac1c0002row6_col4\" class=\"data row6 col4\" >0.018258</td>\n",
              "                        <td id=\"T_866bc1ca_6beb_11ec_8127_0242ac1c0002row6_col5\" class=\"data row6 col5\" >-0.002400</td>\n",
              "                        <td id=\"T_866bc1ca_6beb_11ec_8127_0242ac1c0002row6_col6\" class=\"data row6 col6\" >1.000000</td>\n",
              "                        <td id=\"T_866bc1ca_6beb_11ec_8127_0242ac1c0002row6_col7\" class=\"data row6 col7\" >-0.642836</td>\n",
              "                        <td id=\"T_866bc1ca_6beb_11ec_8127_0242ac1c0002row6_col8\" class=\"data row6 col8\" >-0.472066</td>\n",
              "                        <td id=\"T_866bc1ca_6beb_11ec_8127_0242ac1c0002row6_col9\" class=\"data row6 col9\" >-0.472595</td>\n",
              "                        <td id=\"T_866bc1ca_6beb_11ec_8127_0242ac1c0002row6_col10\" class=\"data row6 col10\" >-0.038386</td>\n",
              "            </tr>\n",
              "            <tr>\n",
              "                        <th id=\"T_866bc1ca_6beb_11ec_8127_0242ac1c0002level0_row7\" class=\"row_heading level0 row7\" >rainy</th>\n",
              "                        <td id=\"T_866bc1ca_6beb_11ec_8127_0242ac1c0002row7_col0\" class=\"data row7 col0\" >-0.002416</td>\n",
              "                        <td id=\"T_866bc1ca_6beb_11ec_8127_0242ac1c0002row7_col1\" class=\"data row7 col1\" >0.006032</td>\n",
              "                        <td id=\"T_866bc1ca_6beb_11ec_8127_0242ac1c0002row7_col2\" class=\"data row7 col2\" >-0.000381</td>\n",
              "                        <td id=\"T_866bc1ca_6beb_11ec_8127_0242ac1c0002row7_col3\" class=\"data row7 col3\" >-0.005007</td>\n",
              "                        <td id=\"T_866bc1ca_6beb_11ec_8127_0242ac1c0002row7_col4\" class=\"data row7 col4\" >-0.011719</td>\n",
              "                        <td id=\"T_866bc1ca_6beb_11ec_8127_0242ac1c0002row7_col5\" class=\"data row7 col5\" >0.003055</td>\n",
              "                        <td id=\"T_866bc1ca_6beb_11ec_8127_0242ac1c0002row7_col6\" class=\"data row7 col6\" >-0.642836</td>\n",
              "                        <td id=\"T_866bc1ca_6beb_11ec_8127_0242ac1c0002row7_col7\" class=\"data row7 col7\" >1.000000</td>\n",
              "                        <td id=\"T_866bc1ca_6beb_11ec_8127_0242ac1c0002row7_col8\" class=\"data row7 col8\" >-0.133175</td>\n",
              "                        <td id=\"T_866bc1ca_6beb_11ec_8127_0242ac1c0002row7_col9\" class=\"data row7 col9\" >-0.126771</td>\n",
              "                        <td id=\"T_866bc1ca_6beb_11ec_8127_0242ac1c0002row7_col10\" class=\"data row7 col10\" >0.013465</td>\n",
              "            </tr>\n",
              "            <tr>\n",
              "                        <th id=\"T_866bc1ca_6beb_11ec_8127_0242ac1c0002level0_row8\" class=\"row_heading level0 row8\" >thundery</th>\n",
              "                        <td id=\"T_866bc1ca_6beb_11ec_8127_0242ac1c0002row8_col0\" class=\"data row8 col0\" >-0.007155</td>\n",
              "                        <td id=\"T_866bc1ca_6beb_11ec_8127_0242ac1c0002row8_col1\" class=\"data row8 col1\" >0.002806</td>\n",
              "                        <td id=\"T_866bc1ca_6beb_11ec_8127_0242ac1c0002row8_col2\" class=\"data row8 col2\" >-0.002099</td>\n",
              "                        <td id=\"T_866bc1ca_6beb_11ec_8127_0242ac1c0002row8_col3\" class=\"data row8 col3\" >0.000189</td>\n",
              "                        <td id=\"T_866bc1ca_6beb_11ec_8127_0242ac1c0002row8_col4\" class=\"data row8 col4\" >-0.009144</td>\n",
              "                        <td id=\"T_866bc1ca_6beb_11ec_8127_0242ac1c0002row8_col5\" class=\"data row8 col5\" >-0.000901</td>\n",
              "                        <td id=\"T_866bc1ca_6beb_11ec_8127_0242ac1c0002row8_col6\" class=\"data row8 col6\" >-0.472066</td>\n",
              "                        <td id=\"T_866bc1ca_6beb_11ec_8127_0242ac1c0002row8_col7\" class=\"data row8 col7\" >-0.133175</td>\n",
              "                        <td id=\"T_866bc1ca_6beb_11ec_8127_0242ac1c0002row8_col8\" class=\"data row8 col8\" >1.000000</td>\n",
              "                        <td id=\"T_866bc1ca_6beb_11ec_8127_0242ac1c0002row8_col9\" class=\"data row8 col9\" >0.087059</td>\n",
              "                        <td id=\"T_866bc1ca_6beb_11ec_8127_0242ac1c0002row8_col10\" class=\"data row8 col10\" >0.025347</td>\n",
              "            </tr>\n",
              "            <tr>\n",
              "                        <th id=\"T_866bc1ca_6beb_11ec_8127_0242ac1c0002level0_row9\" class=\"row_heading level0 row9\" >snowy</th>\n",
              "                        <td id=\"T_866bc1ca_6beb_11ec_8127_0242ac1c0002row9_col0\" class=\"data row9 col0\" >-0.005237</td>\n",
              "                        <td id=\"T_866bc1ca_6beb_11ec_8127_0242ac1c0002row9_col1\" class=\"data row9 col1\" >0.003888</td>\n",
              "                        <td id=\"T_866bc1ca_6beb_11ec_8127_0242ac1c0002row9_col2\" class=\"data row9 col2\" >-0.001237</td>\n",
              "                        <td id=\"T_866bc1ca_6beb_11ec_8127_0242ac1c0002row9_col3\" class=\"data row9 col3\" >0.000398</td>\n",
              "                        <td id=\"T_866bc1ca_6beb_11ec_8127_0242ac1c0002row9_col4\" class=\"data row9 col4\" >-0.008126</td>\n",
              "                        <td id=\"T_866bc1ca_6beb_11ec_8127_0242ac1c0002row9_col5\" class=\"data row9 col5\" >0.000942</td>\n",
              "                        <td id=\"T_866bc1ca_6beb_11ec_8127_0242ac1c0002row9_col6\" class=\"data row9 col6\" >-0.472595</td>\n",
              "                        <td id=\"T_866bc1ca_6beb_11ec_8127_0242ac1c0002row9_col7\" class=\"data row9 col7\" >-0.126771</td>\n",
              "                        <td id=\"T_866bc1ca_6beb_11ec_8127_0242ac1c0002row9_col8\" class=\"data row9 col8\" >0.087059</td>\n",
              "                        <td id=\"T_866bc1ca_6beb_11ec_8127_0242ac1c0002row9_col9\" class=\"data row9 col9\" >1.000000</td>\n",
              "                        <td id=\"T_866bc1ca_6beb_11ec_8127_0242ac1c0002row9_col10\" class=\"data row9 col10\" >0.027494</td>\n",
              "            </tr>\n",
              "            <tr>\n",
              "                        <th id=\"T_866bc1ca_6beb_11ec_8127_0242ac1c0002level0_row10\" class=\"row_heading level0 row10\" >challengerWon</th>\n",
              "                        <td id=\"T_866bc1ca_6beb_11ec_8127_0242ac1c0002row10_col0\" class=\"data row10 col0\" >0.045637</td>\n",
              "                        <td id=\"T_866bc1ca_6beb_11ec_8127_0242ac1c0002row10_col1\" class=\"data row10 col1\" >-0.074088</td>\n",
              "                        <td id=\"T_866bc1ca_6beb_11ec_8127_0242ac1c0002row10_col2\" class=\"data row10 col2\" >0.104665</td>\n",
              "                        <td id=\"T_866bc1ca_6beb_11ec_8127_0242ac1c0002row10_col3\" class=\"data row10 col3\" >-0.028760</td>\n",
              "                        <td id=\"T_866bc1ca_6beb_11ec_8127_0242ac1c0002row10_col4\" class=\"data row10 col4\" >0.100120</td>\n",
              "                        <td id=\"T_866bc1ca_6beb_11ec_8127_0242ac1c0002row10_col5\" class=\"data row10 col5\" >-0.060040</td>\n",
              "                        <td id=\"T_866bc1ca_6beb_11ec_8127_0242ac1c0002row10_col6\" class=\"data row10 col6\" >-0.038386</td>\n",
              "                        <td id=\"T_866bc1ca_6beb_11ec_8127_0242ac1c0002row10_col7\" class=\"data row10 col7\" >0.013465</td>\n",
              "                        <td id=\"T_866bc1ca_6beb_11ec_8127_0242ac1c0002row10_col8\" class=\"data row10 col8\" >0.025347</td>\n",
              "                        <td id=\"T_866bc1ca_6beb_11ec_8127_0242ac1c0002row10_col9\" class=\"data row10 col9\" >0.027494</td>\n",
              "                        <td id=\"T_866bc1ca_6beb_11ec_8127_0242ac1c0002row10_col10\" class=\"data row10 col10\" >1.000000</td>\n",
              "            </tr>\n",
              "    </tbody></table>"
            ],
            "text/plain": [
              "<pandas.io.formats.style.Styler at 0x7fb3c99629d0>"
            ]
          },
          "metadata": {},
          "execution_count": 27
        }
      ]
    },
    {
      "cell_type": "markdown",
      "source": [
        "As we can see no features are really correlated with our target, but we still will try to predict the winner."
      ],
      "metadata": {
        "id": "TYswWj7ypuZT"
      }
    },
    {
      "cell_type": "code",
      "source": [
        "X, y = finished[['track_id', \n",
        " 'challenger', 'opponent', 'money', \n",
        " 'fuel_consumption', 'sunny', 'rainy',\n",
        " 'thundery', 'snowy']], finished['challengerWon']\n"
      ],
      "metadata": {
        "id": "zY1nIT2XjD6p"
      },
      "execution_count": 28,
      "outputs": []
    },
    {
      "cell_type": "markdown",
      "source": [
        "All our features are numeric, so we don't need to encode the features"
      ],
      "metadata": {
        "id": "3P_BiGv7lhHV"
      }
    },
    {
      "cell_type": "code",
      "source": [
        "from sklearn.pipeline import Pipeline\n",
        "from sklearn.impute import SimpleImputer\n",
        "from sklearn.preprocessing import StandardScaler\n",
        "\n",
        "preprocessor = Pipeline(\n",
        "    steps=[(\"imputer\", SimpleImputer(strategy=\"median\")), \n",
        "           (\"scaler\", StandardScaler())]\n",
        ")\n",
        "\n",
        "X_scaled = preprocessor.fit_transform(X)\n"
      ],
      "metadata": {
        "id": "DaMec4x2kxhp"
      },
      "execution_count": 29,
      "outputs": []
    },
    {
      "cell_type": "code",
      "source": [
        "from sklearn.linear_model import LogisticRegression\n",
        "from sklearn.model_selection import cross_val_score\n",
        "\n",
        "model = LogisticRegression()\n",
        "\n",
        "cross_val_score(model, X_scaled, y)"
      ],
      "metadata": {
        "colab": {
          "base_uri": "https://localhost:8080/"
        },
        "id": "_irWFTtFkyEf",
        "outputId": "92831f0e-d099-4383-8c06-0c0518d6b54f"
      },
      "execution_count": 30,
      "outputs": [
        {
          "output_type": "execute_result",
          "data": {
            "text/plain": [
              "array([0.5791934 , 0.63675527, 0.65329973, 0.64697525, 0.6027774 ])"
            ]
          },
          "metadata": {},
          "execution_count": 30
        }
      ]
    },
    {
      "cell_type": "code",
      "source": [
        "from sklearn.ensemble import RandomForestClassifier\n",
        "\n",
        "model = RandomForestClassifier()\n",
        "\n",
        "cross_val_score(model, X, y).mean()"
      ],
      "metadata": {
        "colab": {
          "base_uri": "https://localhost:8080/"
        },
        "id": "MS1tITiRnNTF",
        "outputId": "c13b172d-f176-44d5-ce92-26fb17d83065"
      },
      "execution_count": 31,
      "outputs": [
        {
          "output_type": "execute_result",
          "data": {
            "text/plain": [
              "0.6319852722143757"
            ]
          },
          "metadata": {},
          "execution_count": 31
        }
      ]
    },
    {
      "cell_type": "markdown",
      "source": [
        "The model predicts the winner with an average accuracy of 0.63"
      ],
      "metadata": {
        "id": "GBmFuuTsrBz7"
      }
    },
    {
      "cell_type": "code",
      "source": [
        ""
      ],
      "metadata": {
        "id": "J36Eclbjne3I"
      },
      "execution_count": 31,
      "outputs": []
    }
  ]
}